{
 "cells": [
  {
   "cell_type": "markdown",
   "id": "3bb8549d",
   "metadata": {
    "vscode": {
     "languageId": "plaintext"
    }
   },
   "source": [
    "# Fase 1: Comprensión del Negocio (Business Understanding)\n",
    "## Proyecto COVID-19 Chile 2020-2022 con Framework Kedro\n",
    "\n",
    "**Estudiantes:** Claudio Murúa - Nicolas Cárdenas  \n",
    "**Curso:** MLY0100 - Machine Learning  \n",
    "**Fecha:** 24 de Septiembre 2025\n",
    "\n",
    "---"
   ]
  },
  {
   "cell_type": "markdown",
   "id": "604c61ad",
   "metadata": {},
   "source": [
    "## 1.1 Definición del Contexto del Negocio\n",
    "\n",
    "### Situación Actual\n",
    "La pandemia de COVID-19 representó uno de los desafíos de salud pública más significativos del siglo XXI. Chile, como muchos países, enfrentó múltiples olas de contagio entre 2020 y 2022, implementando diversas medidas de control y seguimiento epidemiológico.\n",
    "\n",
    "### Problema de Negocio\n",
    "**Contexto:** Las autoridades sanitarias necesitan herramientas analíticas y predictivas para:\n",
    "- Comprender patrones temporales y geográficos de la pandemia\n",
    "- Identificar tendencias y factores de riesgo\n",
    "- Optimizar la asignación de recursos sanitarios\n",
    "- Desarrollar sistemas de alerta temprana\n",
    "- Evaluar la efectividad de medidas implementadas"
   ]
  },
  {
   "cell_type": "markdown",
   "id": "8d82238e",
   "metadata": {},
   "source": [
    "### Oportunidades Identificadas\n",
    "1. **Análisis Retrospectivo**: Entender cómo evolucionó la pandemia en Chile\n",
    "2. **Identificación de Patrones**: Detectar tendencias temporales y regionales\n",
    "3. **Modelado Predictivo**: Desarrollar capacidades de predicción a corto plazo\n",
    "4. **Sistemas de Alerta**: Crear indicadores de riesgo automatizados\n",
    "5. **Optimización de Recursos**: Guiar decisiones de política pública"
   ]
  },
  {
   "cell_type": "markdown",
   "id": "d0a1867c",
   "metadata": {},
   "source": [
    "## 1.2 Objetivos del Proyecto\n",
    "\n",
    "### Objetivo General\n",
    "Desarrollar un sistema completo de análisis y modelado predictivo de datos COVID-19 en Chile (2020-2022) utilizando metodologías de Machine Learning y el framework Kedro, que permita comprender patrones epidemiológicos y generar insights para la toma de decisiones en salud pública."
   ]
  },
  {
   "cell_type": "markdown",
   "id": "0d57711d",
   "metadata": {
    "vscode": {
     "languageId": "plaintext"
    }
   },
   "source": [
    "### Objetivos Específicos\n",
    "\n",
    "#### 1.2.1 Objetivos de Negocio\n",
    "- **OB1**: Analizar la evolución temporal de la pandemia COVID-19 en Chile\n",
    "- **OB2**: Identificar patrones geográficos y diferencias regionales\n",
    "- **OB3**: Caracterizar olas pandémicas y períodos críticos\n",
    "- **OB4**: Evaluar indicadores epidemiológicos clave (tasa de letalidad, crecimiento, etc.)\n",
    "- **OB5**: Generar insights para optimización de políticas sanitarias\n",
    "\n",
    "#### 1.2.2 Objetivos de Machine Learning\n",
    "- **OML1**: Desarrollar modelos predictivos para casos futuros a corto plazo (7-14 días)\n",
    "- **OML2**: Crear sistema de clasificación de períodos de alta/baja transmisión\n",
    "- **OML3**: Implementar detección automática de tendencias (subida/bajada)\n",
    "- **OML4**: Modelar volatilidad y riesgo de saturación hospitalaria\n",
    "- **OML5**: Optimizar feature engineering para máximo poder predictivo"
   ]
  },
  {
   "cell_type": "markdown",
   "id": "d614be8a",
   "metadata": {
    "vscode": {
     "languageId": "plaintext"
    }
   },
   "source": [
    "## 1.3 Criterios de Éxito del Proyecto\n",
    "\n",
    "### 1.3.1 Criterios de Éxito del Negocio\n",
    "\n",
    "| Criterio | Métrica | Valor Objetivo | Prioridad |\n",
    "|----------|---------|----------------|-----------|\n",
    "| **Cobertura Temporal** | Años analizados | 3 años completos (2020-2022) | Alta |\n",
    "| **Cobertura Geográfica** | Regiones incluidas | >300 ubicaciones | Alta |\n",
    "| **Calidad de Datos** | Score de calidad | >90% | Alta |\n",
    "| **Reproducibilidad** | Pipeline automatizado | 100% automatizado | Alta |\n",
    "| **Insights Generados** | Reportes ejecutivos | ≥3 reportes detallados | Media |\n",
    "| **Documentación** | Nivel de documentación | Completa y detallada | Media |"
   ]
  },
  {
   "cell_type": "markdown",
   "id": "5dc0fcdb",
   "metadata": {
    "vscode": {
     "languageId": "plaintext"
    }
   },
   "source": [
    "### 1.3.2 Criterios de Éxito de Machine Learning\n",
    "\n",
    "| Modelo | Métrica Principal | Valor Objetivo | Métrica Secundaria |\n",
    "|--------|-------------------|----------------|-------------------|\n",
    "| **Regresión (Casos)** | RMSE | <500 casos/día | R² >0.85 |\n",
    "| **Clasificación (Alert)** | F1-Score | >0.80 | Precision >0.85 |\n",
    "| **Clasificación (Trend)** | Accuracy | >0.75 | Recall >0.70 |\n",
    "| **Feature Engineering** | Importancia | Top 10 features identificadas | Correlación <0.8 entre features |"
   ]
  },
  {
   "cell_type": "markdown",
   "id": "90ebbff6",
   "metadata": {
    "vscode": {
     "languageId": "plaintext"
    }
   },
   "source": [
    "### 1.3.3 Criterios Técnicos\n",
    "- **Performance**: Pipeline ejecuta en <5 minutos\n",
    "- **Escalabilidad**: Capaz de procesar >100k registros\n",
    "- **Mantenibilidad**: Código modular con >80% cobertura docstrings\n",
    "- **Usabilidad**: Notebooks ejecutables por terceros sin errores"
   ]
  },
  {
   "cell_type": "markdown",
   "id": "2ff260af",
   "metadata": {
    "vscode": {
     "languageId": "plaintext"
    }
   },
   "source": [
    "## 1.4 Evaluación de la Situación\n",
    "\n",
    "### 1.4.1 Inventario de Recursos\n",
    "\n",
    "#### Recursos de Datos\n",
    "- **Dataset 1**: `chile_completo_covid_2020.csv` (33,253 registros)\n",
    "- **Dataset 2**: `chile_completo_covid_2021.csv` (36,330 registros) \n",
    "- **Dataset 3**: `chile_completo_covid_2022.csv` (29,610 registros)\n",
    "- **Total**: ~99,193 registros de 363 ubicaciones únicas\n",
    "\n",
    "#### Recursos Técnicos\n",
    "- **Framework**: Kedro 0.18.x\n",
    "- **Lenguaje**: Python 3.8+\n",
    "- **Librerías**: pandas, numpy, scikit-learn, matplotlib, seaborn\n",
    "- **Infraestructura**: Ambiente local con 8GB+ RAM"
   ]
  },
  {
   "cell_type": "markdown",
   "id": "d382b627",
   "metadata": {
    "vscode": {
     "languageId": "plaintext"
    }
   },
   "source": [
    "#### Recursos Humanos\n",
    "- **Equipo**: 2 estudiantes de Machine Learning\n",
    "- **Tiempo disponible**: 4 semanas\n",
    "- **Experiencia**: Nivel intermedio en Python y ML\n",
    "\n",
    "### 1.4.2 Requerimientos y Suposiciones\n",
    "\n",
    "#### Requerimientos\n",
    "- Acceso a datos COVID-19 Chile 2020-2022\n",
    "- Capacidad computacional para procesar ~100k registros\n",
    "- Framework Kedro operativo\n",
    "- Conocimiento en metodología CRISP-DM\n",
    "\n",
    "#### Suposiciones\n",
    "- Los datos son representativos de la situación real\n",
    "- La calidad de datos es suficiente para análisis confiables\n",
    "- Los patrones pasados pueden informar modelos predictivos\n",
    "- Las métricas epidemiológicas estándar son aplicables"
   ]
  },
  {
   "cell_type": "markdown",
   "id": "c40a3239",
   "metadata": {
    "vscode": {
     "languageId": "plaintext"
    }
   },
   "source": [
    "### 1.4.3 Riesgos y Contingencias\n",
    "\n",
    "| Riesgo | Probabilidad | Impacto | Mitigación |\n",
    "|--------|--------------|---------|------------|\n",
    "| **Calidad de datos baja** | Media | Alto | Implementar validación robusta |\n",
    "| **Formatos inconsistentes** | Alta | Medio | Pipeline de limpieza adaptativo |\n",
    "| **Overfitting modelos** | Media | Medio | Validación cruzada temporal |\n",
    "| **Complejidad computacional** | Baja | Medio | Optimización y sampling |\n",
    "| **Interpretabilidad limitada** | Baja | Alto | Enfoque en modelos explicables |"
   ]
  },
  {
   "cell_type": "markdown",
   "id": "5ca55567",
   "metadata": {
    "vscode": {
     "languageId": "plaintext"
    }
   },
   "source": [
    "## 1.5 Determinación de Objetivos de Machine Learning\n",
    "\n",
    "### 1.5.1 Problemas de Machine Learning Identificados\n",
    "\n",
    "#### Problema 1: Predicción de Casos (Regresión)\n",
    "- **Tipo**: Regresión multivariable\n",
    "- **Target**: `new_confirmed_next_7d` (casos próximos 7 días)\n",
    "- **Features**: Lags, promedios móviles, tendencias, estacionalidad\n",
    "- **Aplicación**: Planificación de recursos sanitarios"
   ]
  },
  {
   "cell_type": "markdown",
   "id": "4387fd25",
   "metadata": {
    "vscode": {
     "languageId": "plaintext"
    }
   },
   "source": [
    "#### Problema 2: Clasificación de Períodos de Riesgo\n",
    "- **Tipo**: Clasificación multiclase\n",
    "- **Target**: `alert_level` (bajo/medio/alto/crítico)\n",
    "- **Features**: Métricas epidemiológicas, trends, volatilidad\n",
    "- **Aplicación**: Sistema de alerta temprana\n",
    "\n",
    "#### Problema 3: Detección de Tendencias\n",
    "- **Tipo**: Clasificación binaria\n",
    "- **Target**: `trend_direction` (subiendo/bajando)\n",
    "- **Features**: Derivadas temporales, aceleración, momentum\n",
    "- **Aplicación**: Toma de decisiones reactiva\n",
    "\n",
    "#### Problema 4: Predicción de Volatilidad\n",
    "- **Tipo**: Regresión\n",
    "- **Target**: `confirmed_future_volatility`\n",
    "- **Features**: Variabilidad histórica, factores externos\n",
    "- **Aplicación**: Gestión de incertidumbre"
   ]
  },
  {
   "cell_type": "markdown",
   "id": "ec06a670",
   "metadata": {
    "vscode": {
     "languageId": "plaintext"
    }
   },
   "source": [
    "### 1.5.2 Técnicas de ML Candidatas\n",
    "\n",
    "#### Para Regresión\n",
    "1. **Random Forest**: Robusto a outliers, maneja no-linearidades\n",
    "2. **Gradient Boosting**: Alta precisión, buena con series temporales\n",
    "3. **SVR**: Efectivo en alta dimensionalidad\n",
    "4. **Linear Regression**: Baseline interpretable\n",
    "\n",
    "#### Para Clasificación\n",
    "1. **XGBoost**: Excelente performance en clasificación\n",
    "2. **Random Forest**: Interpretable y robusto\n",
    "3. **Logistic Regression**: Baseline probabilístico\n",
    "4. **SVM**: Bueno con fronteras complejas"
   ]
  },
  {
   "cell_type": "markdown",
   "id": "d056f1b7",
   "metadata": {
    "vscode": {
     "languageId": "plaintext"
    }
   },
   "source": [
    "### 1.5.3 Estrategia de Validación\n",
    "- **Método**: Time Series Split (respeta orden temporal)\n",
    "- **Splits**: 5 folds con ventana deslizante\n",
    "- **Métricas**: RMSE, MAE (regresión); F1, Precision, Recall (clasificación)\n",
    "- **Baseline**: Modelos naïve (último valor conocido, media histórica)"
   ]
  },
  {
   "cell_type": "markdown",
   "id": "e3ce4132",
   "metadata": {
    "vscode": {
     "languageId": "plaintext"
    }
   },
   "source": [
    "## 1.6 Plan del Proyecto\n",
    "\n",
    "### 1.6.1 Cronograma Detallado\n",
    "\n",
    "| Fase | Semana | Actividades Principales | Entregables | Responsable |\n",
    "|------|--------|------------------------|-------------|-------------|\n",
    "| **Setup** | 1 | Configuración Kedro, carga datos | Proyecto base | Ambos |\n",
    "| **Business Understanding** | 1 | Definición objetivos, contexto | Notebook 01 | Estudiante 1 |\n",
    "| **Data Understanding** | 2 | EDA, validación calidad | Notebook 02 | Estudiante 2 |\n",
    "| **Data Preparation** | 2-3 | Limpieza, feature engineering | Pipeline completo | Ambos |\n",
    "| **Modeling** | 3 | Implementación modelos | Modelos entrenados | Estudiante 1 |\n",
    "| **Evaluation** | 4 | Validación, optimización | Métricas finales | Estudiante 2 |\n",
    "| **Deployment** | 4 | Documentación, entrega | Proyecto final | Ambos |"
   ]
  },
  {
   "cell_type": "markdown",
   "id": "15f2fce2",
   "metadata": {
    "vscode": {
     "languageId": "plaintext"
    }
   },
   "source": [
    "### 1.6.2 Hitos y Checkpoints\n",
    "\n",
    "#### Semana 1\n",
    "- Configuración exitosa del proyecto Kedro\n",
    "- Carga y validación inicial de 3 datasets\n",
    "- Pipeline básico de data engineering funcionando\n",
    "- Notebook de Business Understanding completo\n",
    "\n",
    "#### Semana 2\n",
    "- EDA exhaustivo de los 3 datasets\n",
    "- Identificación de patrones temporales y geográficos\n",
    "- Reporte de calidad de datos >90%\n",
    "- Notebook de Data Understanding completo"
   ]
  },
  {
   "cell_type": "markdown",
   "id": "a8d46efb",
   "metadata": {
    "vscode": {
     "languageId": "plaintext"
    }
   },
   "source": [
    "#### Semana 3\n",
    "- Feature engineering avanzado implementado\n",
    "- Pipeline de data science completo\n",
    "- 4 targets de ML definidos y validados\n",
    "- Modelos baseline entrenados\n",
    "\n",
    "#### Semana 4\n",
    "- Modelos optimizados con métricas objetivo\n",
    "- Pipeline de reporting funcionando\n",
    "- Documentación completa\n",
    "- Proyecto reproducible 100%"
   ]
  },
  {
   "cell_type": "markdown",
   "id": "c8a22730",
   "metadata": {
    "vscode": {
     "languageId": "plaintext"
    }
   },
   "source": [
    "### 1.6.3 Herramientas y Metodologías\n",
    "\n",
    "#### Framework Técnico\n",
    "- **Kedro**: Orquestación y gestión de pipelines\n",
    "- **Git**: Control de versiones\n",
    "- **Jupyter**: Análisis exploratorio y documentación\n",
    "- **Python**: Lenguaje principal\n",
    "\n",
    "#### Metodología\n",
    "- **CRISP-DM**: Metodología de ciencia de datos\n",
    "- **Agile**: Desarrollo iterativo con sprints semanales\n",
    "- **Pair Programming**: Para código crítico\n",
    "- **Code Review**: Para calidad de código"
   ]
  },
  {
   "cell_type": "markdown",
   "id": "2b358f95",
   "metadata": {
    "vscode": {
     "languageId": "plaintext"
    }
   },
   "source": [
    "### 1.6.4 Criterios de Calidad\n",
    "- **Código**: PEP8, docstrings completos, modularidad\n",
    "- **Datos**: Validación automática, reportes de calidad\n",
    "- **Modelos**: Validación cruzada, métricas robustas\n",
    "- **Documentación**: README detallado, notebooks explicativos"
   ]
  },
  {
   "cell_type": "markdown",
   "id": "42093942",
   "metadata": {
    "vscode": {
     "languageId": "plaintext"
    }
   },
   "source": [
    "## 1.7 Conclusiones de Business Understanding\n",
    "\n",
    "### Resumen\n",
    "El proyecto COVID-19 Chile 2020-2022 representa una oportunidad significativa para aplicar técnicas avanzadas de Machine Learning a un problema de salud pública de alta relevancia. Con datos de calidad disponibles y objetivos claramente definidos, el proyecto está bien posicionado para generar insights valiosos y capacidades predictivas."
   ]
  }
 ],
 "metadata": {
  "kernelspec": {
   "display_name": "Kedro (spaceflights)",
   "language": "python",
   "name": "kedro_spaceflights"
  },
  "language_info": {
   "codemirror_mode": {
    "name": "ipython",
    "version": 3
   },
   "file_extension": ".py",
   "mimetype": "text/x-python",
   "name": "python",
   "nbconvert_exporter": "python",
   "pygments_lexer": "ipython3",
   "version": "3.13.7"
  }
 },
 "nbformat": 4,
 "nbformat_minor": 5
}
